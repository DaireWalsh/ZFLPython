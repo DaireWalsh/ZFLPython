{
 "cells": [
  {
   "cell_type": "markdown",
   "metadata": {},
   "source": [
    "# Python Scripting for Image Analysis\n",
    "### ZFL, April 2017\n",
    "#### Mort Canty\n",
    "#### mort.canty@gmail.com  \n",
    "\n",
    "The open-source programming language Python, together with the extensions Numpy, SciPy and GDAL, \n",
    "is an excellent platform for performing digital image analysis tasks on remote sensing imagery. \n",
    "This short course is intended to provide a basic familiarity with Python syntax and semantics, \n",
    "sufficient to allow students to write their own analysis programs in Python.\n",
    "\n",
    "The topics covered will include:\n",
    "\n",
    "    =  Installing a scientific Python environment (Anaconda2)\n",
    "    \n",
    "    =  Interactive development in Jupyter notebooks \n",
    "    \n",
    "    =  Basic syntax, how to write and run a Python script\n",
    "    \n",
    "    =  Variables, functions, classes\n",
    "    \n",
    "    =  Importing modules, namespaces \n",
    "    \n",
    "    =  Numpy (numerical Python), array-oriented programming\n",
    "    \n",
    "    =  GDAL (Geospatial Data Abstraction Library), reading and writing imagery\n",
    "    \n",
    "    =  Integrated Development Environments: IDLE, Eclipse, IPython   \n",
    "    \n",
    "    =  Graphics with MatPlotLib (mathematical graphics library) \n",
    "    \n",
    "    =  Programming the Google Earth Engine with the Python API\n",
    "    \n",
    "    =  Example scripts: PCA, Classification, Clustering, MAD ..."
   ]
  },
  {
   "cell_type": "markdown",
   "metadata": {},
   "source": [
    "## Installing Anaconda2 and the Jupyter Notebook\n",
    "\n",
    "Go to https://www.continuum.io/downloads and follow the instructions.\n",
    "\n",
    "Verify your install by running:\n",
    "\n",
    "**Jupyter Notebook**\n",
    "\n",
    "from the command line."
   ]
  },
  {
   "cell_type": "code",
   "execution_count": null,
   "metadata": {
    "collapsed": true
   },
   "outputs": [],
   "source": []
  }
 ],
 "metadata": {
  "kernelspec": {
   "display_name": "Python [Root]",
   "language": "python",
   "name": "Python [Root]"
  },
  "language_info": {
   "codemirror_mode": {
    "name": "ipython",
    "version": 2
   },
   "file_extension": ".py",
   "mimetype": "text/x-python",
   "name": "python",
   "nbconvert_exporter": "python",
   "pygments_lexer": "ipython2",
   "version": "2.7.12"
  }
 },
 "nbformat": 4,
 "nbformat_minor": 0
}
