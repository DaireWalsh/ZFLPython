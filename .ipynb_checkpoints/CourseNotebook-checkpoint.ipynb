{
 "cells": [
  {
   "cell_type": "markdown",
   "metadata": {},
   "source": [
    "# Python Scripting for Image Analysis\n",
    "### ZFL, April 2017\n",
    "#### Mort Canty\n",
    "#### mort.canty@gmail.com  \n",
    "\n",
    "The open-source programming language Python, together with the extensions Numpy, SciPy and GDAL, \n",
    "is an excellent platform for performing digital image analysis tasks on remote sensing imagery. \n",
    "This short course is intended to provide a basic familiarity with Python syntax and semantics, \n",
    "sufficient to allow students to write their own analysis programs in Python.\n",
    "\n",
    "The topics covered will include:\n",
    "\n",
    "    =  Installing a scientific Python environment (Anaconda2)\n",
    "    \n",
    "    =  Interactive development in Jupyter notebooks \n",
    "    \n",
    "    =  Basic syntax, how to write and run a Python script\n",
    "    \n",
    "    =  Variables, functions, classes\n",
    "    \n",
    "    =  Importing modules, namespaces \n",
    "    \n",
    "    =  Numpy (numerical Python), array-oriented programming\n",
    "    \n",
    "    =  GDAL (Geospatial Data Abstraction Library), reading and writing imagery\n",
    "    \n",
    "    =  Integrated Development Environments: IDLE, Eclipse, IPython   \n",
    "    \n",
    "    =  Graphics with MatPlotLib (mathematical graphics library) \n",
    "    \n",
    "    =  Programming the Google Earth Engine with the Python API\n",
    "    \n",
    "    =  Example scripts: PCA, Classification, Clustering, MAD ..."
   ]
  },
  {
   "cell_type": "markdown",
   "metadata": {},
   "source": [
    "## Installing Anaconda2 and the Course Material\n",
    "\n",
    "Go to https://www.continuum.io/downloads and follow the instructions.\n",
    "\n",
    "Go to https://github.com/mortcanty/ZFLPython,  download the ZIP and unpack it to a convenient location.\n",
    "\n",
    "CD into the subdirectory ZFLPython and run\n",
    "\n",
    "**Jupyter Notebook**\n",
    "\n",
    "from the command line. Open this Notebook \n",
    "\n",
    "**CourseNotebook.ipynb**."
   ]
  },
  {
   "cell_type": "markdown",
   "metadata": {},
   "source": [
    "### A scientific \"Hello world!\" in a Notebook cell"
   ]
  },
  {
   "cell_type": "code",
   "execution_count": null,
   "metadata": {
    "collapsed": false
   },
   "outputs": [],
   "source": [
    "import sys, math                          # importing standard Python modules\n",
    "r = 5                                     # variable assignment\n",
    "s = math.sin(r)                           # function call in namespace \"math\"\n",
    "print 'Hello world! sin(%f) = %f' % (r,s) # print results to standard output"
   ]
  },
  {
   "cell_type": "markdown",
   "metadata": {},
   "source": [
    "### Run the same program as a stand-alone Python script"
   ]
  },
  {
   "cell_type": "code",
   "execution_count": null,
   "metadata": {
    "collapsed": false
   },
   "outputs": [],
   "source": [
    "%cd /home/mort/python/ZFLPython/src \n",
    "# Windows: !cd ...\\ZFLPython\\src"
   ]
  },
  {
   "cell_type": "code",
   "execution_count": null,
   "metadata": {
    "collapsed": false
   },
   "outputs": [],
   "source": [
    "%ls \n",
    "# Windows: %dir"
   ]
  },
  {
   "cell_type": "code",
   "execution_count": null,
   "metadata": {
    "collapsed": false
   },
   "outputs": [],
   "source": [
    "%cat scientificHelloWorld.py \n",
    "# Windows: %type scientificHelloWorld.py"
   ]
  },
  {
   "cell_type": "code",
   "execution_count": null,
   "metadata": {
    "collapsed": false
   },
   "outputs": [],
   "source": [
    "!./scientificHelloWorld.py 5 \n",
    "# Windows (or Linux): !python scientificHelloWorld.py 5"
   ]
  },
  {
   "cell_type": "markdown",
   "metadata": {},
   "source": [
    "### Python functions and file input/output"
   ]
  },
  {
   "cell_type": "code",
   "execution_count": null,
   "metadata": {
    "collapsed": false
   },
   "outputs": [],
   "source": [
    "def myfunc(y):\n",
    "    if y >= 0.0:\n",
    "        return y**5*math.exp(-y)\n",
    "    else:\n",
    "        return 0.0\n",
    "\n",
    "try:\n",
    "    infilename = raw_input('enter a file name: ') # read from standard input\n",
    "    ifile = open( infilename, 'r')\n",
    "except:\n",
    "    print 'Cannot read %s' % infilename\n",
    "    sys.exit(1)\n",
    "    \n",
    "ofile = open( 'data/tableout.txt', 'w')    \n",
    "    \n",
    "for line in ifile:\n",
    "    pair = line.split()\n",
    "    x = float(pair[0]) ; y = float(pair[1])\n",
    "    fy = myfunc(y)\n",
    "    ofile.write('%f %12.5e\\n' %(x,fy))\n",
    "ifile.close()\n",
    "ofile.close()"
   ]
  },
  {
   "cell_type": "code",
   "execution_count": null,
   "metadata": {
    "collapsed": false
   },
   "outputs": [],
   "source": [
    "%cat data/tableout.txt"
   ]
  },
  {
   "cell_type": "markdown",
   "metadata": {},
   "source": [
    "### Array computing"
   ]
  },
  {
   "cell_type": "code",
   "execution_count": null,
   "metadata": {
    "collapsed": false
   },
   "outputs": [],
   "source": [
    "import numpy as np\n",
    "arr = np.random.rand(5,5)\n",
    "print arr"
   ]
  },
  {
   "cell_type": "code",
   "execution_count": null,
   "metadata": {
    "collapsed": false
   },
   "outputs": [],
   "source": [
    "print arr[0,0]"
   ]
  },
  {
   "cell_type": "code",
   "execution_count": null,
   "metadata": {
    "collapsed": false
   },
   "outputs": [],
   "source": [
    "print arr[0]"
   ]
  },
  {
   "cell_type": "code",
   "execution_count": null,
   "metadata": {
    "collapsed": false
   },
   "outputs": [],
   "source": [
    "print arr[0,:]"
   ]
  },
  {
   "cell_type": "code",
   "execution_count": null,
   "metadata": {
    "collapsed": false
   },
   "outputs": [],
   "source": [
    "print arr[0:2,:]"
   ]
  },
  {
   "cell_type": "code",
   "execution_count": null,
   "metadata": {
    "collapsed": false
   },
   "outputs": [],
   "source": [
    "print arr[[0,3,4],:]"
   ]
  },
  {
   "cell_type": "code",
   "execution_count": null,
   "metadata": {
    "collapsed": false
   },
   "outputs": [],
   "source": [
    "print arr[[1,3],0:3]"
   ]
  },
  {
   "cell_type": "code",
   "execution_count": null,
   "metadata": {
    "collapsed": false
   },
   "outputs": [],
   "source": [
    "print arr[-1,:]"
   ]
  },
  {
   "cell_type": "code",
   "execution_count": null,
   "metadata": {
    "collapsed": false
   },
   "outputs": [],
   "source": [
    "print arr[0:5:2,:]"
   ]
  },
  {
   "cell_type": "markdown",
   "metadata": {},
   "source": [
    "### Matrices and linear algebra"
   ]
  },
  {
   "cell_type": "code",
   "execution_count": null,
   "metadata": {
    "collapsed": false
   },
   "outputs": [],
   "source": [
    "A = np.mat(arr[0:4,0:4])\n",
    "print A\n",
    "print A.T"
   ]
  },
  {
   "cell_type": "code",
   "execution_count": null,
   "metadata": {
    "collapsed": false
   },
   "outputs": [],
   "source": [
    "print A.I*A"
   ]
  },
  {
   "cell_type": "code",
   "execution_count": null,
   "metadata": {
    "collapsed": false
   },
   "outputs": [],
   "source": [
    "D = np.mat(np.random.rand(100,3))\n",
    "C = D.T*D\n",
    "C"
   ]
  },
  {
   "cell_type": "code",
   "execution_count": null,
   "metadata": {
    "collapsed": false
   },
   "outputs": [],
   "source": [
    "eigenvalues, eigenvectors = np.linalg.eigh(C)\n",
    "print eigenvalues\n",
    "print ''\n",
    "print eigenvectors"
   ]
  },
  {
   "cell_type": "code",
   "execution_count": null,
   "metadata": {
    "collapsed": false
   },
   "outputs": [],
   "source": [
    "for i in range(3):\n",
    "    print eigenvectors[:,0].T*eigenvectors[:,i]"
   ]
  },
  {
   "cell_type": "markdown",
   "metadata": {},
   "source": [
    "### Graphics"
   ]
  },
  {
   "cell_type": "code",
   "execution_count": null,
   "metadata": {
    "collapsed": false
   },
   "outputs": [],
   "source": [
    "%matplotlib inline\n",
    "import matplotlib.pyplot as plt\n",
    "x = np.linspace(0,10,50)\n",
    "y = np.sin(x)\n",
    "plt.plot(x,y,'g',x,y,'ro')\n",
    "plt.title('SINE')\n",
    "plt.xlabel('X')\n",
    "plt.ylabel('sin(X)')\n",
    "plt.show()"
   ]
  },
  {
   "cell_type": "markdown",
   "metadata": {
    "collapsed": true
   },
   "source": [
    "### Imagery input/output: GDAL\n",
    "\n",
    "GDAL stands for Geospatial Data Abstraction Library. It is not installed in Anaconda2 by default."
   ]
  },
  {
   "cell_type": "code",
   "execution_count": null,
   "metadata": {
    "collapsed": false
   },
   "outputs": [],
   "source": [
    "!conda install gdal"
   ]
  },
  {
   "cell_type": "code",
   "execution_count": null,
   "metadata": {
    "collapsed": false
   },
   "outputs": [],
   "source": [
    "!conda list | grep gdal"
   ]
  },
  {
   "cell_type": "markdown",
   "metadata": {},
   "source": [
    "There are several GDAL binaries that can be called from the command line, for example **gdalinfo**:"
   ]
  },
  {
   "cell_type": "code",
   "execution_count": null,
   "metadata": {
    "collapsed": false
   },
   "outputs": [],
   "source": [
    "!gdalinfo --help"
   ]
  },
  {
   "cell_type": "code",
   "execution_count": null,
   "metadata": {
    "collapsed": false
   },
   "outputs": [],
   "source": [
    "!gdalinfo 'data/20010525'"
   ]
  },
  {
   "cell_type": "markdown",
   "metadata": {},
   "source": [
    "Here is how to get raster imagery into a Python script:"
   ]
  },
  {
   "cell_type": "code",
   "execution_count": null,
   "metadata": {
    "collapsed": false
   },
   "outputs": [],
   "source": [
    "from osgeo import gdal\n",
    "from osgeo.gdalconst import GDT_Byte, GA_ReadOnly\n",
    "gdal.AllRegister()\n",
    "inDataset = gdal.Open('data/20010525',GA_ReadOnly)\n",
    "cols = inDataset.RasterXSize    \n",
    "rows = inDataset.RasterYSize  \n",
    "bands = inDataset.RasterCount  \n",
    "rasterBand1 = inDataset.GetRasterBand(1)\n",
    "band1 = rasterBand1.ReadAsArray(0,0,cols,rows)\n",
    "print np.shape(band1)"
   ]
  },
  {
   "cell_type": "code",
   "execution_count": null,
   "metadata": {
    "collapsed": false
   },
   "outputs": [],
   "source": [
    "fig,ax = plt.subplots(figsize=(10,10)) \n",
    "ax.imshow(band1/255.,cmap='gray')\n",
    "plt.show()"
   ]
  },
  {
   "cell_type": "code",
   "execution_count": null,
   "metadata": {
    "collapsed": false
   },
   "outputs": [],
   "source": [
    "!python dispms.py -h"
   ]
  },
  {
   "cell_type": "code",
   "execution_count": null,
   "metadata": {
    "collapsed": false
   },
   "outputs": [],
   "source": [
    "!python dispms.py -f data/20010525 -e 3 -p [6,5,4]"
   ]
  },
  {
   "cell_type": "code",
   "execution_count": null,
   "metadata": {
    "collapsed": false
   },
   "outputs": [],
   "source": [
    "%run dispms -f data/20010525 -e 3 -p [6,5,4]"
   ]
  },
  {
   "cell_type": "code",
   "execution_count": null,
   "metadata": {
    "collapsed": false
   },
   "outputs": [],
   "source": [
    "run dispms -f data/20010525 -e 3 -p [6,5,4] -F data/20010626 -E 3 -P [6,5,4]"
   ]
  },
  {
   "cell_type": "code",
   "execution_count": null,
   "metadata": {
    "collapsed": true
   },
   "outputs": [],
   "source": []
  }
 ],
 "metadata": {
  "kernelspec": {
   "display_name": "Python [Root]",
   "language": "python",
   "name": "Python [Root]"
  },
  "language_info": {
   "codemirror_mode": {
    "name": "ipython",
    "version": 2
   },
   "file_extension": ".py",
   "mimetype": "text/x-python",
   "name": "python",
   "nbconvert_exporter": "python",
   "pygments_lexer": "ipython2",
   "version": "2.7.12"
  }
 },
 "nbformat": 4,
 "nbformat_minor": 0
}
